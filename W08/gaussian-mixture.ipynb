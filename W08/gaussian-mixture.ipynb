{
 "cells": [
  {
   "cell_type": "code",
   "execution_count": 1,
   "metadata": {},
   "outputs": [],
   "source": [
    "import numpy as np\n",
    "import math"
   ]
  },
  {
   "cell_type": "code",
   "execution_count": null,
   "metadata": {},
   "outputs": [],
   "source": [
    "import findspark\n",
    "findspark.init()\n",
    "\n",
    "# create spark session\n",
    "from pyspark.sql import SparkSession\n",
    "spark = SparkSession.builder.appName(\"my app\").master(\"local\").getOrCreate()\n",
    "\n",
    "# get context from the session\n",
    "sc = spark.sparkContext"
   ]
  },
  {
   "cell_type": "code",
   "execution_count": 2,
   "metadata": {},
   "outputs": [],
   "source": [
    "import numpy as np\n",
    "import math\n",
    "\n",
    "def create_dataset(N, D=10, K=None):\n",
    "    if K is None:\n",
    "        K = math.ceil(math.sqrt(N)/2)\n",
    "    \n",
    "    def create_normal_dist(n):\n",
    "        mu = np.random.randint(-100, 100, size=(D,)) / 100. * D\n",
    "\n",
    "        L = np.random.randint(-70, 70, size=(D,D)) / 100.\n",
    "        cov = np.dot(L, L.transpose())\n",
    "\n",
    "        t = np.random.multivariate_normal(mu, cov, n)\n",
    "        return t\n",
    "    \n",
    "    dataset = list()\n",
    "    Csize = int(N / K)\n",
    "    for _ in range(K):\n",
    "        dataset_c = np.zeros((Csize, D+1))\n",
    "        # gen IDs\n",
    "        dataset_c[:, 0] = np.arange(Csize, dtype='int')\n",
    "        dataset_c[:, 1:D+1] = create_normal_dist(Csize)\n",
    "        dataset.extend(dataset_c)\n",
    "    \n",
    "    return np.array(dataset)"
   ]
  },
  {
   "cell_type": "code",
   "execution_count": null,
   "metadata": {},
   "outputs": [],
   "source": []
  }
 ],
 "metadata": {
  "kernelspec": {
   "display_name": "Python 3",
   "language": "python",
   "name": "python3"
  },
  "language_info": {
   "codemirror_mode": {
    "name": "ipython",
    "version": 3
   },
   "file_extension": ".py",
   "mimetype": "text/x-python",
   "name": "python",
   "nbconvert_exporter": "python",
   "pygments_lexer": "ipython3",
   "version": "3.6.9"
  }
 },
 "nbformat": 4,
 "nbformat_minor": 4
}
