{
 "cells": [
  {
   "cell_type": "code",
   "execution_count": 1,
   "metadata": {},
   "outputs": [],
   "source": [
    "import matplotlib.pyplot as plt\n",
    "import numpy as np\n",
    "import time"
   ]
  },
  {
   "cell_type": "markdown",
   "metadata": {},
   "source": [
    "# Misc Functions"
   ]
  },
  {
   "cell_type": "code",
   "execution_count": 2,
   "metadata": {},
   "outputs": [],
   "source": [
    "def create_dataset(N, minval=[0, 0], maxval=[1, 1]):\n",
    "    dataset = np.zeros((N, 3))\n",
    "\n",
    "    x_data = np.random.rand(N) * (maxval[0] - minval[0]) + minval[0]\n",
    "    y_data = np.random.rand(N) * (maxval[1] - minval[1]) + minval[1]\n",
    "\n",
    "    dataset[:, 0] = np.arange(N)\n",
    "    dataset[:, 1] = x_data\n",
    "    dataset[:, 2] = y_data\n",
    "\n",
    "    return dataset\n",
    "\n",
    "def plot_dataset(dataset):\n",
    "    plt.figure(figsize=(8, 8))\n",
    "    plt.scatter(dataset[:, 1], dataset[:, 2])\n",
    "    plt.show()\n",
    "\n",
    "\n",
    "def sort_dataset(dataset, axis=\"x\"):\n",
    "    if axis == \"x\":\n",
    "        axis = 1\n",
    "    elif axis == \"y\":\n",
    "        axis = 2\n",
    "\n",
    "    N = dataset.shape[0] \n",
    "    datapoints = []\n",
    "    for i in range(N):\n",
    "        datapoints.append(list(dataset[i]))\n",
    "\n",
    "    sorted_dataset = np.stack(list(sorted(datapoints, key=lambda p: p[axis])))\n",
    "\n",
    "    return sorted_dataset"
   ]
  },
  {
   "cell_type": "code",
   "execution_count": 3,
   "metadata": {},
   "outputs": [],
   "source": [
    "def compute_median(dataset, axis=\"x\"):\n",
    "    \"\"\"\n",
    "    주어진 데이터포인트에 대해 median 값 반환\n",
    "    \"\"\"\n",
    "    \n",
    "    if axis == \"x\":\n",
    "        axis = 1\n",
    "    elif axis == \"y\":\n",
    "        axis = 2\n",
    "        \n",
    "    median = np.median(dataset[:, axis])\n",
    "    \n",
    "    return median"
   ]
  },
  {
   "cell_type": "code",
   "execution_count": 4,
   "metadata": {},
   "outputs": [],
   "source": [
    "def compute_distance(p1, p2):\n",
    "    \"\"\"\n",
    "    주어진 2개 데이터포인트에 대해 거리 계산\n",
    "    \"\"\"\n",
    "    \n",
    "    distance = np.sqrt(np.sum((p1[1:] - p2[1:])**2))\n",
    "    return distance"
   ]
  },
  {
   "cell_type": "code",
   "execution_count": 5,
   "metadata": {},
   "outputs": [],
   "source": [
    "def get_median_points(sorted_dataset, median, d, axis=\"x\"):\n",
    "    \"\"\"\n",
    "    Median 근처의 데이터포인트(좌우 d 이하로 떨어진) 찾아서 반환\n",
    "    MOTE: sorted_dataset은 axis와 반대 축으로 정렬된 리스트여야 함\n",
    "          -> 여기서는 항상 y_sorted_dataset\n",
    "    \"\"\"\n",
    "    \n",
    "    if axis == \"x\":\n",
    "        axis = 1\n",
    "    elif axis == \"y\":\n",
    "        axis = 2\n",
    "    \n",
    "    filtered_dataset = sorted_dataset[\n",
    "        (sorted_dataset[:, axis] >= median - d) & (sorted_dataset[:, axis] <= median + d)\n",
    "    ]\n",
    "    return filtered_dataset"
   ]
  },
  {
   "cell_type": "markdown",
   "metadata": {},
   "source": [
    "# Merge\n",
    "\n",
    "메디안 앞뒤로 왼쪽, 오른쪽 구역에 걸쳐있는 점의 쌍의 거리를 계산한다."
   ]
  },
  {
   "cell_type": "code",
   "execution_count": 10,
   "metadata": {},
   "outputs": [],
   "source": [
    "def compute_median_closest_pair(median_datapoints, d, along_axis=\"y\"):\n",
    "    \"\"\"\n",
    "    Median 근처 데이터포인트들에서 closest pair 계산 -> merge\n",
    "    \"\"\"\n",
    "    \n",
    "    if along_axis == \"x\":\n",
    "        along_axis = 1\n",
    "    elif along_axis == \"y\":\n",
    "        along_axis = 2\n",
    "    \n",
    "    N = median_datapoints.shape[0]\n",
    "    min_distance = d\n",
    "    closest_point_pair = None\n",
    "    \n",
    "    if N > 0:\n",
    "        # y축 기준 제일 작은 포인트부터 루프\n",
    "        for i in range(N):\n",
    "            datapoint = median_datapoints[i]\n",
    "\n",
    "            filtered_median_datapoints = []\n",
    "            for j in range(i+1, N):\n",
    "                point = median_datapoints[j]\n",
    "                \n",
    "                # 현재 데이터포인트부터 y축 값이 큰 값의 데이터포인트를 차례대로 얻어오고, 그 값이 범위내에 있는지 검사\n",
    "                if point[along_axis] <= datapoint[along_axis] + d:\n",
    "                    filtered_median_datapoints.append(point)\n",
    "                # 범위내에 없으면 더 검사할 필요 없이 break\n",
    "                else:\n",
    "                    break\n",
    "            \n",
    "            if len(filtered_median_datapoints) == 0:\n",
    "                continue\n",
    "                \n",
    "            # 편의를 위해 numpy array로 바꿔주는 코드\n",
    "            filtered_median_datapoints = np.stack(filtered_median_datapoints, axis=0)\n",
    "\n",
    "            # 걸러진 포인트개수\n",
    "            M = filtered_median_datapoints.shape[0]\n",
    "\n",
    "            # closest pair 계산\n",
    "            for j in range(M):\n",
    "                point = filtered_median_datapoints[j]\n",
    "                dist = compute_distance(datapoint, point)\n",
    "\n",
    "                if dist < min_distance:\n",
    "                    min_distance = dist\n",
    "                    closest_point_pair = (datapoint, point)\n",
    "                \n",
    "    return closest_point_pair"
   ]
  },
  {
   "cell_type": "markdown",
   "metadata": {},
   "source": [
    "# Divide-and-Conquer Algorithm"
   ]
  },
  {
   "cell_type": "code",
   "execution_count": 7,
   "metadata": {},
   "outputs": [],
   "source": [
    "def compute_closest_pair(x_sorted_dataset, y_sorted_dataset):\n",
    "    \"\"\"\n",
    "    Closest pair 계산 알고리즘\n",
    "    \"\"\"\n",
    "    \n",
    "    N = x_sorted_dataset.shape[0]\n",
    "    if N == 1:                  # 해당 영역에 데이터포인트가 하나밖에 없는 경우\n",
    "        return None\n",
    "    elif N == 2:                # 해당 영역에 데이터포인트가 두개밖에 없는 경우\n",
    "        p1 = x_sorted_dataset[0]\n",
    "        p2 = x_sorted_dataset[1]\n",
    "        return (p1, p2)\n",
    "    else:                       # 해당 영역에 데이터포인트가 2개 이상인 경우\n",
    "        # median 값 계산\n",
    "        x_median = compute_median(x_sorted_dataset, axis=\"x\")\n",
    "        \n",
    "        # median 값 기준으로 좌우로 데이터셋을 나눔\n",
    "        dataset_left_x = x_sorted_dataset[x_sorted_dataset[:, 1] <= x_median]\n",
    "        dataset_right_x = x_sorted_dataset[x_sorted_dataset[:, 1] > x_median]\n",
    "        \n",
    "        dataset_left_y = y_sorted_dataset[y_sorted_dataset[:, 1] <= x_median]\n",
    "        dataset_right_y = y_sorted_dataset[y_sorted_dataset[:, 1] > x_median]\n",
    "        \n",
    "        # 좌우 영역에서 각각 closest pair 계산\n",
    "        pair_left = compute_closest_pair(dataset_left_x, dataset_left_y)\n",
    "        pair_right = compute_closest_pair(dataset_right_x, dataset_right_y)\n",
    "\n",
    "        \n",
    "        if pair_left is None:  # 좌측 영역에 데이터포인트가 1개밖에 없었을 경우\n",
    "            min_distance_left = np.inf\n",
    "        else:\n",
    "            min_distance_left = compute_distance(pair_left[0], pair_left[1])\n",
    "            \n",
    "        if pair_right is None: # 우측 영역에 데이터포인트가 1개밖에 없었을 경우\n",
    "            min_distance_right = np.inf\n",
    "        else:\n",
    "            min_distance_right = compute_distance(pair_right[0], pair_right[1])\n",
    "        \n",
    "        # 좌우측의 closest pair를 바탕으로 전체(?) closest pair 계산\n",
    "        if min_distance_left < min_distance_right:\n",
    "            min_distance = min_distance_left\n",
    "            closest_pair = pair_left\n",
    "        elif min_distance_left > min_distance_right:\n",
    "            min_distance = min_distance_right\n",
    "            closest_pair = pair_right\n",
    "        \n",
    "        # median 근처의 데이터포인트만 얻어옴\n",
    "        median_points = get_median_points(y_sorted_dataset, x_median, min_distance, axis=\"x\")\n",
    "        \n",
    "        # median 근처 포인트들 중에서 closest pair 계산\n",
    "        median_closest_pair = compute_median_closest_pair(median_points, min_distance, along_axis=\"y\")\n",
    "        \n",
    "        # closest pair가 median 근처에 있었을 경우, global closest pair 업데이트\n",
    "        if median_closest_pair is not None:\n",
    "            closest_pair = median_closest_pair\n",
    "        \n",
    "        return closest_pair"
   ]
  },
  {
   "cell_type": "markdown",
   "metadata": {},
   "source": [
    "# Test"
   ]
  },
  {
   "cell_type": "code",
   "execution_count": 11,
   "metadata": {},
   "outputs": [
    {
     "name": "stdout",
     "output_type": "stream",
     "text": [
      "(array([3.60000000e+01, 9.88936736e-01, 3.46693001e-04]), array([7.50000000e+01, 9.99093840e-01, 7.85943936e-03])) 0.012633610930093858\n"
     ]
    }
   ],
   "source": [
    "dataset = create_dataset(N=100)\n",
    "x_sorted_dataset = sort_dataset(dataset, axis=\"x\")\n",
    "y_sorted_dataset = sort_dataset(dataset, axis=\"y\")\n",
    "\n",
    "pair = compute_closest_pair(x_sorted_dataset, y_sorted_dataset)\n",
    "print(pair, compute_distance(*pair))"
   ]
  },
  {
   "cell_type": "code",
   "execution_count": 12,
   "metadata": {},
   "outputs": [],
   "source": [
    "def check(dataset):\n",
    "    N = dataset.shape[0]\n",
    "    \n",
    "    min_dist = np.inf\n",
    "    closest_pair = None\n",
    "    \n",
    "    for i in range(N):\n",
    "        for j in range(i + 1, N):\n",
    "            p1 = dataset[i]\n",
    "            p2 = dataset[j]\n",
    "            \n",
    "            dist = compute_distance(p1, p2)\n",
    "            if dist < min_dist:\n",
    "                min_dist = dist\n",
    "                closest_pair = (p1, p2)\n",
    "                \n",
    "    return closest_pair"
   ]
  },
  {
   "cell_type": "code",
   "execution_count": 13,
   "metadata": {},
   "outputs": [
    {
     "name": "stdout",
     "output_type": "stream",
     "text": [
      "(array([3.60000000e+01, 9.88936736e-01, 3.46693001e-04]), array([7.50000000e+01, 9.99093840e-01, 7.85943936e-03])) 0.012633610930093858\n"
     ]
    }
   ],
   "source": [
    "pair_check = check(dataset)\n",
    "print(pair_check, compute_distance(*pair_check))"
   ]
  },
  {
   "cell_type": "code",
   "execution_count": 14,
   "metadata": {},
   "outputs": [],
   "source": [
    "def unit_test(n_iter):\n",
    "    for i in range(n_iter):\n",
    "        test_dataset = create_dataset(N=10000)\n",
    "        x_sorted_test_dataset = sort_dataset(test_dataset, axis=\"x\")\n",
    "        y_sorted_test_dataset = sort_dataset(test_dataset, axis=\"y\")\n",
    "\n",
    "        pair1 = compute_closest_pair(x_sorted_test_dataset, y_sorted_test_dataset)\n",
    "        pair2 = check(test_dataset)\n",
    "        \n",
    "        dist1 = compute_distance(*pair1)\n",
    "        dist2 = compute_distance(*pair2)\n",
    "        \n",
    "        assert dist1 == dist2, f\"테스트실패! pair1: {pair1}, pair2: {pair2}, distance: {dist1}, {dist2}\"\n",
    "        \n",
    "    print(\"테스트성공\")"
   ]
  },
  {
   "cell_type": "code",
   "execution_count": 15,
   "metadata": {},
   "outputs": [
    {
     "name": "stdout",
     "output_type": "stream",
     "text": [
      "테스트성공\n"
     ]
    }
   ],
   "source": [
    "unit_test(10)"
   ]
  },
  {
   "cell_type": "markdown",
   "metadata": {},
   "source": [
    "# 실행시간 그래프"
   ]
  },
  {
   "cell_type": "code",
   "execution_count": 17,
   "metadata": {},
   "outputs": [],
   "source": [
    "def test_with_n(N):\n",
    "    dataset = create_dataset(N)\n",
    "    \n",
    "    start_time = time.time()\n",
    "    x_sorted_test_dataset = sort_dataset(dataset, axis=\"x\")\n",
    "    y_sorted_test_dataset = sort_dataset(dataset, axis=\"y\")\n",
    "    \n",
    "    closest_pair = compute_closest_pair(x_sorted_test_dataset, y_sorted_test_dataset)\n",
    "    duration = time.time() - start_time\n",
    "    \n",
    "    return duration"
   ]
  },
  {
   "cell_type": "code",
   "execution_count": 35,
   "metadata": {},
   "outputs": [],
   "source": [
    "def test_naive_with_n(N):\n",
    "    dataset = create_dataset(N)\n",
    "    start_time = time.time()\n",
    "    closest_pair = check(dataset)\n",
    "    duration = time.time() - start_time\n",
    "    \n",
    "    return duration"
   ]
  },
  {
   "cell_type": "code",
   "execution_count": null,
   "metadata": {},
   "outputs": [],
   "source": [
    "Ns = [1000, 5000, 10000, 50000, 100000]\n",
    "\n",
    "durations = []\n",
    "for n in Ns:\n",
    "    duration = 0.0\n",
    "    for i in range(3):\n",
    "        duration += test_with_n(n)\n",
    "        \n",
    "    durations.append(duration/3)"
   ]
  },
  {
   "cell_type": "code",
   "execution_count": 38,
   "metadata": {},
   "outputs": [],
   "source": [
    "naive_Ns = [1000, 5000, 10000]\n",
    "\n",
    "naive_durations = []\n",
    "for n in naive_Ns:\n",
    "    duration = 0.0\n",
    "    for i in range(3):\n",
    "        duration += test_naive_with_n(n)\n",
    "        \n",
    "    naive_durations.append(duration/3)"
   ]
  },
  {
   "cell_type": "code",
   "execution_count": 39,
   "metadata": {},
   "outputs": [
    {
     "data": {
      "image/png": "[encoded data removed]",
      "text/plain": [
       "<Figure size 432x288 with 1 Axes>"
      ]
     },
     "metadata": {
      "needs_background": "light"
     },
     "output_type": "display_data"
    }
   ],
   "source": [
    "#plt.figure(figsize=(8, 8))\n",
    "plt.plot(Ns, durations, linestyle='-', marker='o')\n",
    "plt.plot(naive_Ns, naive_durations, linestyle=':', marker='s')\n",
    "plt.xlabel(\"Number of datapoints\")\n",
    "plt.ylabel(\"Execution time\")\n",
    "plt.title(\"Execution time of Closest Pair\")\n",
    "plt.xscale('log')\n",
    "plt.show()"
   ]
  }
 ],
 "metadata": {
  "kernelspec": {
   "display_name": "Python 3",
   "language": "python",
   "name": "python3"
  }
 },
 "nbformat": 4,
 "nbformat_minor": 4
}
