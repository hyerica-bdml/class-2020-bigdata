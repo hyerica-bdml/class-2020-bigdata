{
 "cells": [
  {
   "cell_type": "code",
   "execution_count": 1,
   "metadata": {},
   "outputs": [],
   "source": [
    "import matplotlib.pyplot as plt\n",
    "import numpy as np\n",
    "import time"
   ]
  },
  {
   "cell_type": "code",
   "execution_count": 2,
   "metadata": {},
   "outputs": [],
   "source": [
    "from datautils import plot_dataset, create_dataset, sort_dataset"
   ]
  },
  {
   "cell_type": "markdown",
   "metadata": {},
   "source": [
    "## Algorithm"
   ]
  },
  {
   "cell_type": "code",
   "execution_count": 3,
   "metadata": {},
   "outputs": [],
   "source": [
    "def compute_median(dataset, axis=\"x\"):\n",
    "    \"\"\"\n",
    "    주어진 데이터포인트에 대해 median 값 반환\n",
    "    \"\"\"\n",
    "    \n",
    "    if axis == \"x\":\n",
    "        axis = 1\n",
    "    elif axis == \"y\":\n",
    "        axis = 2\n",
    "        \n",
    "    median = np.median(dataset[:, axis])\n",
    "    \n",
    "    return median"
   ]
  },
  {
   "cell_type": "code",
   "execution_count": 4,
   "metadata": {},
   "outputs": [],
   "source": [
    "def is_valid_triangle(p1, p2, p3):\n",
    "    dist1 = np.sqrt(np.sum((p1[1:] - p2[1:])**2))\n",
    "    dist2 = np.sqrt(np.sum((p2[1:] - p3[1:])**2))\n",
    "    dist3 = np.sqrt(np.sum((p1[1:] - p3[1:])**2))\n",
    "    \n",
    "    if sum([dist1, dist2, dist3]) > 2*max([dist1, dist2, dist3]):\n",
    "        return True\n",
    "    else:\n",
    "        return False"
   ]
  },
  {
   "cell_type": "code",
   "execution_count": 5,
   "metadata": {},
   "outputs": [],
   "source": [
    "def compute_distance(p1, p2, p3):\n",
    "    \"\"\"\n",
    "    주어진 2개 데이터포인트에 대해 거리 계산\n",
    "    \"\"\"\n",
    "    \n",
    "    distance = np.sqrt(np.sum((p1[1:] - p2[1:])**2)) + \\\n",
    "               np.sqrt(np.sum((p2[1:] - p3[1:])**2)) + \\\n",
    "               np.sqrt(np.sum((p1[1:] - p3[1:])**2))\n",
    "    \n",
    "    return distance"
   ]
  },
  {
   "cell_type": "code",
   "execution_count": 6,
   "metadata": {},
   "outputs": [],
   "source": [
    "def get_median_points(sorted_dataset, median, d, axis=\"x\"):\n",
    "    \"\"\"\n",
    "    Median 근처의 데이터포인트(좌우 d 이하로 떨어진) 찾아서 반환\n",
    "    \"\"\"\n",
    "    \n",
    "    if axis == \"x\":\n",
    "        axis = 1\n",
    "    elif axis == \"y\":\n",
    "        axis = 2\n",
    "    \n",
    "    filtered_dataset = sorted_dataset[\n",
    "        (sorted_dataset[:, axis] >= median - d/2) & (sorted_dataset[:, axis] <= median + d/2)\n",
    "    ]\n",
    "    return filtered_dataset"
   ]
  },
  {
   "cell_type": "code",
   "execution_count": 10,
   "metadata": {},
   "outputs": [],
   "source": [
    "def compute_median_smallest_triangle(median_datapoints, d, along_axis=\"y\"):\n",
    "    \"\"\"\n",
    "    Median 근처 데이터포인트들에서 smallest_triangle 계산\n",
    "    \"\"\"\n",
    "    \n",
    "    if along_axis == \"x\":\n",
    "        along_axis = 1\n",
    "    elif along_axis == \"y\":\n",
    "        along_axis = 2\n",
    "    \n",
    "    N = median_datapoints.shape[0]\n",
    "    min_distance = d\n",
    "    smallest_triangle = None\n",
    "    \n",
    "    if N > 0:\n",
    "        # 정렬 다시하지 말것\n",
    "        # median_datapoints = sort_dataset(median_datapoints, axis=\"y\")\n",
    "    \n",
    "        # y축 기준 제일 작은 포인트부터 루프\n",
    "        for i in range(N):\n",
    "            datapoint = median_datapoints[i]\n",
    "\n",
    "            # 현재 데이터포인트 기준, y축으로 d 이하로 떨어진 포인트들만 걸러냄\n",
    "            # filtered_median_datapoints = median_datapoints[\n",
    "            #     (median_datapoints[:, along_axis] >= datapoint[along_axis]) & (median_datapoints[:, along_axis] <= datapoint[along_axis] + d)\n",
    "            # ]\n",
    "            filtered_median_datapoints = []\n",
    "            for j in range(i + 1, N):\n",
    "                point = median_datapoints[j]\n",
    "                \n",
    "                # 현재 데이터포인트부터 y축 값이 큰 값의 데이터포인트를 차례대로 얻어오고, 그 값이 범위내에 있는지 검사\n",
    "                if point[along_axis] >= datapoint[along_axis] and point[along_axis] <= datapoint[along_axis] + d/2:\n",
    "                    filtered_median_datapoints.append(point)\n",
    "                # 범위내에 없으면 더 검사할 필요 없이 break\n",
    "                else:\n",
    "                    break\n",
    "                    \n",
    "            if len(filtered_median_datapoints) > 0:\n",
    "                # 편의를 위해 numpy array로 바꿔주는 코드\n",
    "                filtered_median_datapoints = np.stack(filtered_median_datapoints, axis=0)\n",
    "\n",
    "                # 걸러진 포인트개수\n",
    "                M = filtered_median_datapoints.shape[0]\n",
    "\n",
    "                # closest pair 계산\n",
    "                for j in range(M):\n",
    "                    for k in range(j + 1, M):\n",
    "                        point2 = filtered_median_datapoints[j]\n",
    "                        point3 = filtered_median_datapoints[k]\n",
    "\n",
    "                        if not is_valid_triangle(datapoint, point2, point3):\n",
    "                            continue\n",
    "                            \n",
    "                        dist = compute_distance(datapoint, point2, point3)\n",
    "\n",
    "                        if dist < min_distance and dist > 0:\n",
    "                            min_distance = dist\n",
    "                            smallest_triangle = (datapoint, point2, point3)\n",
    "                \n",
    "    return smallest_triangle"
   ]
  },
  {
   "cell_type": "code",
   "execution_count": 13,
   "metadata": {},
   "outputs": [],
   "source": [
    "def compute_smallest_triangle(x_sorted_dataset, y_sorted_dataset):\n",
    "    \"\"\"\n",
    "    Closest pair 계산 알고리즘\n",
    "    \"\"\"\n",
    "    \n",
    "    N = x_sorted_dataset.shape[0]\n",
    "    if N < 3:                  # 해당 영역에 데이터포인트가 하나밖에 없는 경우\n",
    "        return None\n",
    "    elif N == 3:                # 해당 영역에 데이터포인트가 두개밖에 없는 경우\n",
    "        p1 = x_sorted_dataset[0]\n",
    "        p2 = x_sorted_dataset[1]\n",
    "        p3 = x_sorted_dataset[2]\n",
    "        \n",
    "        if is_valid_triangle(p1, p2, p3):\n",
    "            return (p1, p2, p3)\n",
    "        else:\n",
    "            return None\n",
    "    else:                       # 해당 영역에 데이터포인트가 2개 이상인 경우\n",
    "        # median 값 계산\n",
    "        x_median = compute_median(x_sorted_dataset, axis=\"x\")\n",
    "        \n",
    "        # median 값 기준으로 좌우로 데이터셋을 나눔\n",
    "        dataset_left_x = x_sorted_dataset[x_sorted_dataset[:, 1] <= x_median]\n",
    "        dataset_right_x = x_sorted_dataset[x_sorted_dataset[:, 1] > x_median]\n",
    "        \n",
    "        dataset_left_y = y_sorted_dataset[y_sorted_dataset[:, 1] <= x_median]\n",
    "        dataset_right_y = y_sorted_dataset[y_sorted_dataset[:, 1] > x_median]\n",
    "        \n",
    "        # 좌우 영역에서 각각 closest pair 계산\n",
    "        pair_left = compute_smallest_triangle(dataset_left_x, dataset_left_y)\n",
    "        pair_right = compute_smallest_triangle(dataset_right_x, dataset_right_y)\n",
    "\n",
    "        \n",
    "        if pair_left is None:  # 좌측 영역에 데이터포인트가 2개 이하밖에 없었을 경우\n",
    "            min_distance_left = np.inf\n",
    "        else:\n",
    "            min_distance_left = compute_distance(pair_left[0], pair_left[1], pair_left[2])\n",
    "            \n",
    "        if pair_right is None: # 우측 영역에 데이터포인트가 2개 이하밖에 없었을 경우\n",
    "            min_distance_right = np.inf\n",
    "        else:\n",
    "            min_distance_right = compute_distance(pair_right[0], pair_right[1], pair_right[2])\n",
    "        \n",
    "        # 좌우측의 smallest triangle를 바탕으로 전체(?) closest pair 계산\n",
    "        if min_distance_left == min_distance_right == np.inf:\n",
    "            min_distance = np.inf\n",
    "            smallest_triangle = None\n",
    "        elif min_distance_left < min_distance_right:\n",
    "            min_distance = min_distance_left\n",
    "            smallest_triangle = pair_left\n",
    "        elif min_distance_left > min_distance_right:\n",
    "            min_distance = min_distance_right\n",
    "            smallest_triangle = pair_right\n",
    "        \n",
    "        # median 근처의 데이터포인트만 얻어옴\n",
    "        median_points = get_median_points(y_sorted_dataset, x_median, min_distance, axis=\"x\")\n",
    "        \n",
    "        # median 근처 포인트들 중에서 closest pair 계산\n",
    "        median_smallest_triangle = compute_median_smallest_triangle(median_points, min_distance, along_axis=\"y\")\n",
    "        \n",
    "        # smallest triangle가 median 근처에 있었을 경우, global smallest triangle 업데이트\n",
    "        if median_smallest_triangle is not None:\n",
    "            smallest_triangle = median_smallest_triangle\n",
    "        \n",
    "        return smallest_triangle"
   ]
  },
  {
   "cell_type": "code",
   "execution_count": 14,
   "metadata": {},
   "outputs": [
    {
     "name": "stdout",
     "output_type": "stream",
     "text": [
      "(array([41.        ,  0.58898365,  0.85779393]), array([62.        ,  0.58934881,  0.80521265]), array([22.        ,  0.59793358,  0.83908501])) 0.10826532308425724\n"
     ]
    }
   ],
   "source": [
    "dataset = create_dataset(N=100)\n",
    "x_sorted_dataset = sort_dataset(dataset, axis=\"x\")\n",
    "y_sorted_dataset = sort_dataset(dataset, axis=\"y\")\n",
    "\n",
    "pair = compute_smallest_triangle(x_sorted_dataset, y_sorted_dataset)\n",
    "print(pair, compute_distance(*pair))"
   ]
  },
  {
   "cell_type": "markdown",
   "metadata": {},
   "source": [
    "## 테스트용 나이브 smallest triangle 코드"
   ]
  },
  {
   "cell_type": "code",
   "execution_count": 15,
   "metadata": {},
   "outputs": [],
   "source": [
    "def check(dataset):\n",
    "    N = dataset.shape[0]\n",
    "    \n",
    "    min_dist = np.inf\n",
    "    closest_pair = None\n",
    "    \n",
    "    for i in range(N):\n",
    "        for j in range(i + 1, N):\n",
    "            for k in range(j + 1, N):\n",
    "                p1 = dataset[i]\n",
    "                p2 = dataset[j]\n",
    "                p3 = dataset[k]\n",
    "\n",
    "                dist = compute_distance(p1, p2, p3)\n",
    "                \n",
    "                if dist < min_dist:\n",
    "                    min_dist = dist\n",
    "                    closest_pair = (p1, p2, p3)\n",
    "                \n",
    "    return closest_pair"
   ]
  },
  {
   "cell_type": "code",
   "execution_count": 16,
   "metadata": {},
   "outputs": [
    {
     "name": "stdout",
     "output_type": "stream",
     "text": [
      "(array([22.        ,  0.59793358,  0.83908501]), array([41.        ,  0.58898365,  0.85779393]), array([62.        ,  0.58934881,  0.80521265])) 0.10826532308425725\n"
     ]
    }
   ],
   "source": [
    "pair_check = check(dataset)\n",
    "print(pair_check, compute_distance(*pair_check))"
   ]
  },
  {
   "cell_type": "markdown",
   "metadata": {},
   "source": [
    "## Test"
   ]
  },
  {
   "cell_type": "code",
   "execution_count": 21,
   "metadata": {},
   "outputs": [],
   "source": [
    "def unit_test(n_iter):\n",
    "    for i in range(n_iter):\n",
    "        test_dataset = create_dataset(N=100)\n",
    "        x_sorted_test_dataset = sort_dataset(test_dataset, axis=\"x\")\n",
    "        y_sorted_test_dataset = sort_dataset(test_dataset, axis=\"y\")\n",
    "\n",
    "        pair1 = compute_smallest_triangle(x_sorted_test_dataset, y_sorted_test_dataset)\n",
    "        pair2 = check(test_dataset)\n",
    "        \n",
    "        dist1 = compute_distance(*pair1)\n",
    "        dist2 = compute_distance(*pair2)\n",
    "        \n",
    "        assert abs(dist1 - dist2) < 1e-8, f\"테스트실패! pair1: {pair1}, pair2: {pair2}, distance: {dist1}, {dist2}\"\n",
    "        \n",
    "    print(\"테스트성공\")"
   ]
  },
  {
   "cell_type": "code",
   "execution_count": 23,
   "metadata": {},
   "outputs": [
    {
     "name": "stdout",
     "output_type": "stream",
     "text": [
      "테스트성공\n"
     ]
    }
   ],
   "source": [
    "unit_test(50)"
   ]
  },
  {
   "cell_type": "markdown",
   "metadata": {},
   "source": [
    "## 실행시간 그래프"
   ]
  },
  {
   "cell_type": "code",
   "execution_count": 24,
   "metadata": {},
   "outputs": [],
   "source": [
    "def test_with_n(N):\n",
    "    dataset = create_dataset(N)\n",
    "    x_sorted_test_dataset = sort_dataset(dataset, axis=\"x\")\n",
    "    y_sorted_test_dataset = sort_dataset(dataset, axis=\"y\")\n",
    "    \n",
    "    start_time = time.time()\n",
    "    smallest_triangle = compute_smallest_triangle(x_sorted_test_dataset, y_sorted_test_dataset)\n",
    "    duration = time.time() - start_time\n",
    "    \n",
    "    return duration"
   ]
  },
  {
   "cell_type": "markdown",
   "metadata": {},
   "source": [
    "데이터포인트 200개부터 10000개까지 200개씩 늘려가면서 실험.\n",
    "똑같은 개수의 데이터포인트마다 다섯번 돌려서 평균냄"
   ]
  },
  {
   "cell_type": "code",
   "execution_count": 25,
   "metadata": {},
   "outputs": [],
   "source": [
    "durations = []\n",
    "\n",
    "for n in range(200, 10000, 200):\n",
    "    duration = 0.0\n",
    "    for i in range(5):\n",
    "        duration += test_with_n(n)\n",
    "        \n",
    "    durations.append(duration/5)"
   ]
  },
  {
   "cell_type": "code",
   "execution_count": 26,
   "metadata": {},
   "outputs": [
    {
     "data": {
      "image/png": "[encoded data removed]",
      "text/plain": [
       "<Figure size 576x576 with 1 Axes>"
      ]
     },
     "metadata": {
      "needs_background": "light"
     },
     "output_type": "display_data"
    }
   ],
   "source": [
    "plt.figure(figsize=(8, 8))\n",
    "plt.plot(list(range(200, 10000, 200)), durations)\n",
    "plt.xlabel(\"Number of datapoints\")\n",
    "plt.ylabel(\"Execution time\")\n",
    "plt.title(\"Execution time of Smallest Triangle\")\n",
    "plt.show()"
   ]
  },
  {
   "cell_type": "code",
   "execution_count": null,
   "metadata": {},
   "outputs": [],
   "source": []
  }
 ],
 "metadata": {
  "kernelspec": {
   "display_name": "Python 3",
   "language": "python",
   "name": "python3"
  },
  "language_info": {
   "codemirror_mode": {
    "name": "ipython",
    "version": 3
   },
   "file_extension": ".py",
   "mimetype": "text/x-python",
   "name": "python",
   "nbconvert_exporter": "python",
   "pygments_lexer": "ipython3",
   "version": "3.6.9"
  }
 },
 "nbformat": 4,
 "nbformat_minor": 4
}
