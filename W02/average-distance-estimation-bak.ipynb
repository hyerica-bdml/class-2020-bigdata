{
 "cells": [
  {
   "cell_type": "markdown",
   "metadata": {},
   "source": [
    "### 데이터\n",
    "Downloaded from: https://github.com/hyerica-bdml/class-2020-bigdata/tree/master/W02\n",
    "\n",
    "### 문제\n",
    "* 주어진 샘플 개수에 대해 Simple random sampling과 Stratified sampling을 통해 각각 100번씩 average distance를 추정하고 샘플 평균과 샘플 평균의 분산을 계산하는 Python 코드를 작성하시오.\n",
    "* 샘플 개수를 1,000개, 10,000개, 100,000개, 1,000,000개로 증가시키면서 두 샘플 방식의 샘플 평균 분산을 그래프로 그리시오 (matplotlib 사용)\n",
    "\n",
    "### 제출\n",
    "* 모든 코드와 그래프를 담고 있는 Jupyter Notebook 파일 (.ipynb)"
   ]
  },
  {
   "cell_type": "code",
   "execution_count": 54,
   "metadata": {},
   "outputs": [],
   "source": [
    "import math\n",
    "\n",
    "def dist(x1, y1, x2, y2):\n",
    "    return math.sqrt((x1 - x2) ** 2 + (y1 - y2) ** 2)"
   ]
  },
  {
   "cell_type": "code",
   "execution_count": 9,
   "metadata": {},
   "outputs": [],
   "source": [
    "with open(\"1000000.txt\", \"r\") as f:\n",
    "    point_lines = f.readlines()\n",
    "    point_list = list()\n",
    "    for line in point_lines:\n",
    "        t = line.strip().split(',')\n",
    "        point_list.append((float(t[1]), float(t[2])))"
   ]
  },
  {
   "cell_type": "code",
   "execution_count": 10,
   "metadata": {},
   "outputs": [],
   "source": [
    "n_points = len(point_list)"
   ]
  },
  {
   "cell_type": "code",
   "execution_count": 11,
   "metadata": {},
   "outputs": [
    {
     "data": {
      "text/plain": [
       "1000000"
      ]
     },
     "execution_count": 11,
     "metadata": {},
     "output_type": "execute_result"
    }
   ],
   "source": [
    "n_points"
   ]
  },
  {
   "cell_type": "code",
   "execution_count": 12,
   "metadata": {},
   "outputs": [],
   "source": [
    "test_n_samples = [ 1000, 2000, 4000, 8000, 16000 ]"
   ]
  },
  {
   "cell_type": "markdown",
   "metadata": {},
   "source": [
    "# Simple Random Sampling"
   ]
  },
  {
   "cell_type": "code",
   "execution_count": 56,
   "metadata": {},
   "outputs": [],
   "source": [
    "import random\n",
    "import matplotlib.pyplot as plt \n",
    "\n",
    "def sample_pair_self(n_points):\n",
    "    p = random.randrange(0, n_points)\n",
    "    while True:\n",
    "        q = random.randrange(0, n_points)\n",
    "        if q is not p:\n",
    "            break\n",
    "    return (p, q)\n",
    "\n",
    "def srs_average_dist_self(n_points, point_list, n_samples):\n",
    "    if n_samples == 0:\n",
    "        return 0\n",
    "    sum = 0.;\n",
    "    for _ in range(n_samples):\n",
    "        p, q = sample_pair_self(n_points)\n",
    "        sum += dist(point_list[p][0], point_list[p][1], point_list[q][0], point_list[q][1])\n",
    "    return sum / float(n_samples)\n",
    "\n",
    "def sample_pair(n_points1, n_points2):\n",
    "    return (random.randrange(0, n_points1), random.randrange(0, n_points2))\n",
    "\n",
    "def srs_average_dist(n_points1, point_list1, n_points2, point_list2, n_samples):\n",
    "    if n_samples == 0:\n",
    "        return 0\n",
    "    sum = 0.;\n",
    "    for _ in range(n_samples):\n",
    "        p, q = sample_pair(n_points1, n_points2)\n",
    "        sum += dist(point_list1[p][0], point_list1[p][1], point_list2[q][0], point_list2[q][1])\n",
    "    return sum / float(n_samples)\n",
    "\n",
    "def variance_of_sample_means(sample_means):\n",
    "    m = sum(sample_means) / len(sample_means)\n",
    "    sse = sum([ (v - m)**2 for v in sample_means ])\n",
    "    return sse / (len(sample_means) - 1)"
   ]
  },
  {
   "cell_type": "code",
   "execution_count": 51,
   "metadata": {},
   "outputs": [
    {
     "data": {
      "image/png": "[encoded data removed]",
      "text/plain": [
       "<Figure size 432x288 with 1 Axes>"
      ]
     },
     "metadata": {
      "needs_background": "light"
     },
     "output_type": "display_data"
    }
   ],
   "source": [
    "values = [ srs_average_dist_self(n_points, point_list, 10000) for _ in range(200) ]\n",
    "plt.hist(values, bins=10, cumulative=False, histtype='bar', orientation='vertical', rwidth=0.8,color='hotpink')\n",
    "plt.show()"
   ]
  },
  {
   "cell_type": "code",
   "execution_count": 52,
   "metadata": {},
   "outputs": [
    {
     "data": {
      "image/png": "[encoded data removed]",
      "text/plain": [
       "<Figure size 432x288 with 1 Axes>"
      ]
     },
     "metadata": {
      "needs_background": "light"
     },
     "output_type": "display_data"
    }
   ],
   "source": [
    "values = [ srs_average_dist_self(n_points, point_list, 100000) for _ in range(200) ]\n",
    "plt.hist(values, bins=10, cumulative=False, histtype='bar', orientation='vertical', rwidth=0.8,color='hotpink')\n",
    "plt.show()"
   ]
  },
  {
   "cell_type": "code",
   "execution_count": 57,
   "metadata": {},
   "outputs": [],
   "source": [
    "res_srs = list()\n",
    "for n_samples in test_n_samples:\n",
    "    values = [ srs_average_dist_self(n_points, point_list, n_samples) for _ in range(200) ]\n",
    "    var = variance_of_sample_means(values)\n",
    "    res_srs.append(var)"
   ]
  },
  {
   "cell_type": "code",
   "execution_count": 58,
   "metadata": {},
   "outputs": [
    {
     "data": {
      "image/png": "[encoded data removed]",
      "text/plain": [
       "<Figure size 432x288 with 1 Axes>"
      ]
     },
     "metadata": {
      "needs_background": "light"
     },
     "output_type": "display_data"
    }
   ],
   "source": [
    "plt.plot( test_n_samples, res_srs, linestyle='-', marker='o')\n",
    "plt.show()"
   ]
  },
  {
   "cell_type": "markdown",
   "metadata": {},
   "source": [
    "# Stratified Sampling"
   ]
  },
  {
   "cell_type": "code",
   "execution_count": 23,
   "metadata": {},
   "outputs": [],
   "source": [
    "with open('1000000.grid', 'r') as grid_file:\n",
    "    grid_lines = grid_file.readlines() \n",
    "    grid_x = [ float(v) for v in grid_lines[0].strip().split(\",\") ]\n",
    "    grid_y = [ float(v) for v in grid_lines[1].strip().split(\",\") ]\n",
    "    grid_size = [ int(v) for v in grid_lines[2].strip().split(\",\") ]"
   ]
  },
  {
   "cell_type": "code",
   "execution_count": 29,
   "metadata": {},
   "outputs": [
    {
     "data": {
      "text/plain": [
       "[224531,\n",
       " 153663,\n",
       " 71994,\n",
       " 23101,\n",
       " 153501,\n",
       " 106050,\n",
       " 49407,\n",
       " 15857,\n",
       " 72541,\n",
       " 49307,\n",
       " 23308,\n",
       " 7701,\n",
       " 23268,\n",
       " 15864,\n",
       " 7511,\n",
       " 2396]"
      ]
     },
     "execution_count": 29,
     "metadata": {},
     "output_type": "execute_result"
    }
   ],
   "source": [
    "grid_size"
   ]
  },
  {
   "cell_type": "markdown",
   "metadata": {},
   "source": [
    "### Compute sample size in each grid unit"
   ]
  },
  {
   "cell_type": "code",
   "execution_count": 24,
   "metadata": {},
   "outputs": [],
   "source": [
    "population_size = cnt * (cnt - 1) / 2\n",
    "\n",
    "# ratio to population size\n",
    "strata_ratio = [ \n",
    "    [ float(s * t) / float(population_size) if i < j else 0 for j, s in enumerate(grid_size) ]\n",
    "    for i, t in enumerate(grid_size)\n",
    "]\n",
    "for i, s in enumerate(grid_size):\n",
    "    strata_ratio[i][i] = float(s * (s-1) / 2) / float(population_size)"
   ]
  },
  {
   "cell_type": "code",
   "execution_count": 25,
   "metadata": {
    "scrolled": true
   },
   "outputs": [
    {
     "data": {
      "text/plain": [
       "[[504, 690, 323, 104, 689, 476, 222, 71, 326, 221, 105, 35, 104, 71, 34, 11],\n",
       " [0, 236, 221, 71, 472, 326, 152, 49, 223, 152, 72, 24, 72, 49, 23, 7],\n",
       " [0, 0, 52, 33, 221, 153, 71, 23, 104, 71, 34, 11, 34, 23, 11, 3],\n",
       " [0, 0, 0, 5, 71, 49, 23, 7, 34, 23, 11, 4, 11, 7, 3, 1],\n",
       " [0, 0, 0, 0, 236, 326, 152, 49, 223, 151, 72, 24, 71, 49, 23, 7],\n",
       " [0, 0, 0, 0, 0, 112, 105, 34, 154, 105, 49, 16, 49, 34, 16, 5],\n",
       " [0, 0, 0, 0, 0, 0, 24, 16, 72, 49, 23, 8, 23, 16, 7, 2],\n",
       " [0, 0, 0, 0, 0, 0, 0, 3, 23, 16, 7, 2, 7, 5, 2, 1],\n",
       " [0, 0, 0, 0, 0, 0, 0, 0, 53, 72, 34, 11, 34, 23, 11, 3],\n",
       " [0, 0, 0, 0, 0, 0, 0, 0, 0, 24, 23, 8, 23, 16, 7, 2],\n",
       " [0, 0, 0, 0, 0, 0, 0, 0, 0, 0, 5, 4, 11, 7, 4, 1],\n",
       " [0, 0, 0, 0, 0, 0, 0, 0, 0, 0, 0, 1, 4, 2, 1, 0],\n",
       " [0, 0, 0, 0, 0, 0, 0, 0, 0, 0, 0, 0, 5, 7, 3, 1],\n",
       " [0, 0, 0, 0, 0, 0, 0, 0, 0, 0, 0, 0, 0, 3, 2, 1],\n",
       " [0, 0, 0, 0, 0, 0, 0, 0, 0, 0, 0, 0, 0, 0, 1, 0],\n",
       " [0, 0, 0, 0, 0, 0, 0, 0, 0, 0, 0, 0, 0, 0, 0, 0]]"
      ]
     },
     "execution_count": 25,
     "metadata": {},
     "output_type": "execute_result"
    }
   ],
   "source": [
    "strata_sample_size"
   ]
  },
  {
   "cell_type": "code",
   "execution_count": 26,
   "metadata": {},
   "outputs": [],
   "source": [
    "# flatten\n",
    "flatten_strata_ratio = [ v for row in strata_ratio for v in row ]\n",
    "flatten_strata_sample_size = [ v for row in strata_sample_size for v in row ]"
   ]
  },
  {
   "cell_type": "markdown",
   "metadata": {},
   "source": [
    "### Sample point IDs from each grid unit\n",
    "\n",
    "1.\n",
    "\n",
    "With each grid ID i,\n",
    "* For $S_{ij}$ with all $j \\geq i$, sample <code>strata_sample_size[i][j]</code> point IDs from $G_i$ and $G_j$ respectively\n",
    "\n",
    "2.\n",
    "\n",
    "Make pairs of points each of which comes from different grid units\n",
    "\n",
    "3.\n",
    "\n",
    "With every pair,\n",
    "* compute distance (refer to broadcast data)\n",
    "* output distance with strata ID as key\n",
    "\n",
    "4.\n",
    "\n",
    "Compute average with each stratum"
   ]
  },
  {
   "cell_type": "code",
   "execution_count": 33,
   "metadata": {},
   "outputs": [
    {
     "name": "stdout",
     "output_type": "stream",
     "text": [
      "16\n"
     ]
    }
   ],
   "source": [
    "def get_grid_idx (x, grid_x):\n",
    "    for idx, excl_max in enumerate(grid_x):\n",
    "        if x < excl_max:\n",
    "            return idx\n",
    "\n",
    "grid_group = [ list() for _ in range(len(grid_size)) ]\n",
    "for x, y in point_list:\n",
    "    grid_group[get_grid_idx(x, grid_x) + get_grid_idx(y, grid_y) * len(grid_x)].append((x, y))\n",
    "\n",
    "# check size\n",
    "for i, l in enumerate(grid_group):\n",
    "    assert grid_size[i] == len(l)"
   ]
  },
  {
   "cell_type": "code",
   "execution_count": 49,
   "metadata": {},
   "outputs": [
    {
     "data": {
      "image/png": "[encoded data removed]",
      "text/plain": [
       "<Figure size 432x288 with 1 Axes>"
      ]
     },
     "metadata": {
      "needs_background": "light"
     },
     "output_type": "display_data"
    }
   ],
   "source": [
    "def str_average_distance(grid_group, n_sampe_size, n_try):\n",
    "    # e.g., with 1000000.grid, n_grid_units = 16\n",
    "    n_grid_units = len(grid_size);\n",
    "    \n",
    "    # strata sample size allocation\n",
    "    strata_sample_size = [ \n",
    "        [ round(float(n_sample_size) * strata_ratio[i][j]) for j, s in enumerate(grid_size) ]\n",
    "        for i, t in enumerate(grid_size)\n",
    "    ]\n",
    "\n",
    "    # compute mean of each stratum\n",
    "    strata_means = [ [ None for _ in range(n_grid_units)] for _ in range(n_grid_units) ]\n",
    "\n",
    "    for i in range(n_grid_units):\n",
    "        for j in range(n_grid_units):\n",
    "            if j == i:\n",
    "                # sample with replacement\n",
    "                values = [ srs_average_dist_self(len(grid_group[i]), grid_group[i], strata_sample_size[i][j]) for _ in range(200) ]\n",
    "                strata_means[i][i] = values\n",
    "\n",
    "            elif j > i:\n",
    "                values = [ srs_average_dist(len(grid_group[i]), grid_group[i], len(grid_group[j]), grid_group[j], strata_sample_size[i][j]) for _ in range(200) ]\n",
    "                strata_means[i][j] = values\n",
    "\n",
    "\n",
    "    stratified_mean = [ 0. for _ in range(200) ]\n",
    "    for k in range(200):\n",
    "        # compute stratified estimator of distances\n",
    "        for i in range(n_grid_units):\n",
    "            for j in range(n_grid_units):\n",
    "                if j >= i:\n",
    "                    stratified_mean[k] += strata_ratio[i][j] * strata_means[i][j][k]\n",
    "\n",
    "plt.hist(stratified_mean, bins=10, cumulative=False, histtype='bar', orientation='vertical', rwidth=0.8,color='hotpink')\n",
    "plt.show()"
   ]
  },
  {
   "cell_type": "code",
   "execution_count": null,
   "metadata": {},
   "outputs": [],
   "source": [
    "res_srs = list()\n",
    "for n_samples in test_n_samples:\n",
    "    values = [ srs_average_dist_self(n_points, point_list, n_samples) for _ in range(200) ]\n",
    "    var = variance_of_sample_means(values)\n",
    "    res_srs.append(var)"
   ]
  }
 ],
 "metadata": {
  "kernelspec": {
   "display_name": "Python 3",
   "language": "python",
   "name": "python3"
  },
  "language_info": {
   "codemirror_mode": {
    "name": "ipython",
    "version": 3
   },
   "file_extension": ".py",
   "mimetype": "text/x-python",
   "name": "python",
   "nbconvert_exporter": "python",
   "pygments_lexer": "ipython3",
   "version": "3.6.9"
  }
 },
 "nbformat": 4,
 "nbformat_minor": 4
}
