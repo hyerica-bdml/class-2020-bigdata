{
 "cells": [
  {
   "cell_type": "code",
   "execution_count": 2,
   "metadata": {},
   "outputs": [],
   "source": [
    "import findspark\n",
    "findspark.init()\n",
    "\n",
    "# create spark session\n",
    "from pyspark.sql import SparkSession\n",
    "spark = SparkSession.builder.appName(\"my app\").master(\"local\").getOrCreate()\n",
    "\n",
    "# get context from the session\n",
    "sc = spark.sparkContext"
   ]
  },
  {
   "cell_type": "code",
   "execution_count": 3,
   "metadata": {},
   "outputs": [],
   "source": [
    "import matplotlib.pyplot as plt\n",
    "import numpy as np\n",
    "import time"
   ]
  },
  {
   "cell_type": "markdown",
   "metadata": {},
   "source": [
    "# Misc"
   ]
  },
  {
   "cell_type": "code",
   "execution_count": 12,
   "metadata": {},
   "outputs": [],
   "source": [
    "def create_setdata(ss):\n",
    "    record = set()\n",
    "    for i in ss:\n",
    "        if i not in record:\n",
    "            record.add(i)\n",
    "        else:\n",
    "            yield record\n",
    "            record = set()\n",
    "            record.add(i)\n",
    "    if not record:\n",
    "        yield record"
   ]
  },
  {
   "cell_type": "code",
   "execution_count": 13,
   "metadata": {},
   "outputs": [],
   "source": [
    "def create_dataset(N):\n",
    "    \"\"\"\n",
    "    N개의 하이퍼링크 페이지 생성\n",
    "    \"\"\"\n",
    "    \n",
    "    while True:\n",
    "        s = np.random.default_rng().zipf(1.2, N * 10 * 10)\n",
    "        dataset = list(create_setdata(s[s<N]))\n",
    "        if len(dataset) >=N:\n",
    "            break\n",
    "\n",
    "    ids = range(N)\n",
    "    return [ (i, s) for i, s in zip(ids, dataset[:N]) ]"
   ]
  },
  {
   "cell_type": "markdown",
   "metadata": {},
   "source": [
    "# Algorithm"
   ]
  },
  {
   "cell_type": "code",
   "execution_count": 21,
   "metadata": {},
   "outputs": [],
   "source": [
    "from operator import add\n",
    "\n",
    "def comp_pagerank(sc, dataset, d=0.85, convergenceTol=0.00001, maxIter=50):\n",
    "    N = len(dataset)\n",
    "    \n",
    "    pr_local = [ 1. / float(N) for _ in range(N) ]\n",
    "    inputRDD = sc.parallelize(dataset).cache()\n",
    "    jumpPr = sc.parallelize([ (pid, 1. / float(N) * (1. - d)) for pid in range(N) ]).cache()\n",
    "\n",
    "    for iterNo in range(maxIter):\n",
    "        # broacast current pagerank values\n",
    "        pr = sc.broadcast(pr_local)\n",
    "        \n",
    "        itr = inputRDD\\\n",
    "                .flatMap(lambda t: [ (target, d * pr.value[t[0]] / float(len(t[1]))) for target in t[1] ])\\\n",
    "                .union(jumpPr)\\\n",
    "                .reduceByKey(add).cache()\n",
    "\n",
    "        # test convergence\n",
    "        err = itr.map(lambda t: abs(pr.value[t[0]] - t[1])).sum() / N\n",
    "\n",
    "        # release previously broadcast pagerank array\n",
    "        pr.destroy()\n",
    "        pr_local = itr.map(lambda t: t[1]).collect()\n",
    "\n",
    "        if err < convergenceTol: \n",
    "            break\n",
    "        \n",
    "    return pr_local"
   ]
  },
  {
   "cell_type": "markdown",
   "metadata": {},
   "source": [
    "# Evaluation"
   ]
  },
  {
   "cell_type": "code",
   "execution_count": 22,
   "metadata": {},
   "outputs": [],
   "source": [
    "Ns = [1000, 2000, 4000, 8000, 16000]"
   ]
  },
  {
   "cell_type": "code",
   "execution_count": 23,
   "metadata": {},
   "outputs": [],
   "source": [
    "execution_time = list()\n",
    "\n",
    "for N in Ns:\n",
    "    local = create_dataset(N)\n",
    "\n",
    "    start_time = time.time()\n",
    "    comp_pagerank(sc, local)\n",
    "    execution_time.append(time.time() - start_time)"
   ]
  },
  {
   "cell_type": "code",
   "execution_count": 24,
   "metadata": {},
   "outputs": [
    {
     "data": {
      "image/png": "[encoded data removed]",
      "text/plain": [
       "<Figure size 432x288 with 1 Axes>"
      ]
     },
     "metadata": {
      "needs_background": "light"
     },
     "output_type": "display_data"
    }
   ],
   "source": [
    "plt.xlabel(\"Number of page\")\n",
    "plt.ylabel(\"Execution time\")\n",
    "plt.title(\"Execution time of PageRank\")\n",
    "plt.plot(Ns, execution_time, linestyle=':', marker='s')\n",
    "plt.show()"
   ]
  },
  {
   "cell_type": "code",
   "execution_count": null,
   "metadata": {},
   "outputs": [],
   "source": []
  }
 ],
 "metadata": {
  "kernelspec": {
   "display_name": "Python 3",
   "language": "python",
   "name": "python3"
  },
  "language_info": {
   "codemirror_mode": {
    "name": "ipython",
    "version": 3
   },
   "file_extension": ".py",
   "mimetype": "text/x-python",
   "name": "python",
   "nbconvert_exporter": "python",
   "pygments_lexer": "ipython3",
   "version": "3.6.9"
  }
 },
 "nbformat": 4,
 "nbformat_minor": 4
}
