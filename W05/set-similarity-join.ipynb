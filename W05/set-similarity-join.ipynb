{
 "cells": [
  {
   "cell_type": "code",
   "execution_count": 1,
   "metadata": {},
   "outputs": [],
   "source": [
    "import findspark\n",
    "findspark.init()\n",
    "\n",
    "# create spark session\n",
    "from pyspark.sql import SparkSession\n",
    "spark = SparkSession.builder.appName(\"my app\").master(\"local\").getOrCreate()\n",
    "\n",
    "# get context from the session\n",
    "sc = spark.sparkContext"
   ]
  },
  {
   "cell_type": "code",
   "execution_count": 2,
   "metadata": {},
   "outputs": [],
   "source": [
    "import matplotlib.pyplot as plt\n",
    "import numpy as np\n",
    "import time"
   ]
  },
  {
   "cell_type": "markdown",
   "metadata": {},
   "source": [
    "# Misc"
   ]
  },
  {
   "cell_type": "code",
   "execution_count": 3,
   "metadata": {},
   "outputs": [],
   "source": [
    "def create_setdata(ss):\n",
    "    record = set()\n",
    "    for i in ss:\n",
    "        if i not in record:\n",
    "            record.add(i)\n",
    "        else:\n",
    "            yield record\n",
    "            record = set()\n",
    "    if not record:\n",
    "        yield record"
   ]
  },
  {
   "cell_type": "code",
   "execution_count": 4,
   "metadata": {},
   "outputs": [],
   "source": [
    "def create_dataset(N, D=10000):\n",
    "    \"\"\"\n",
    "    N개의 집합 데이터 생성 (D = 사전 사이즈)\n",
    "    \"\"\"\n",
    "    \n",
    "    while True:\n",
    "        s = np.random.default_rng().zipf(1.2, N * 10 * 10)\n",
    "        dataset = list(create_setdata(s[s<D]))\n",
    "        if len(dataset) >=N:\n",
    "            break\n",
    "\n",
    "    ids = range(N)\n",
    "    return [ (i, s) for i, s in zip(ids, dataset[:N]) ]"
   ]
  },
  {
   "cell_type": "code",
   "execution_count": 5,
   "metadata": {},
   "outputs": [],
   "source": [
    "def compute_similarity(s1, s2):\n",
    "    \"\"\"\n",
    "    주어진 2개 집합의 Jaccard similarity 계산\n",
    "    \"\"\"\n",
    "    \n",
    "    return float(len(s1 & s2)) / float(len(s1 | s2))"
   ]
  },
  {
   "cell_type": "code",
   "execution_count": 6,
   "metadata": {},
   "outputs": [],
   "source": [
    "def distinct_pairs(l):\n",
    "    l.sort()\n",
    "    for i,e1 in enumerate(l):\n",
    "        for j,e2 in enumerate(l):\n",
    "            if i<j:\n",
    "                yield ((e1, e2), 1)"
   ]
  },
  {
   "cell_type": "markdown",
   "metadata": {},
   "source": [
    "# Test"
   ]
  },
  {
   "cell_type": "code",
   "execution_count": 9,
   "metadata": {},
   "outputs": [],
   "source": [
    "N=1600\n",
    "thres=0.6\n",
    "minSize = 5"
   ]
  },
  {
   "cell_type": "code",
   "execution_count": 10,
   "metadata": {},
   "outputs": [],
   "source": [
    "dataset = create_dataset(N)"
   ]
  },
  {
   "cell_type": "code",
   "execution_count": 11,
   "metadata": {},
   "outputs": [],
   "source": [
    "setSize = sc.broadcast([ len(s) for i,s in dataset ])"
   ]
  },
  {
   "cell_type": "code",
   "execution_count": 12,
   "metadata": {},
   "outputs": [],
   "source": [
    "res = sc.parallelize(dataset)\\\n",
    "        .filter(lambda t: len(t[1]) >= minSize ) \\\n",
    "        .flatMap(lambda t: [ (i, t[0]) for i in t[1] ])\\\n",
    "        .groupByKey().mapValues(list)\\\n",
    "        .flatMap(lambda t: distinct_pairs(t[1]))\\\n",
    "        .reduceByKey(lambda a,b:a+b)\\\n",
    "        .filter(lambda t: t[1] >= (thres / (1. + thres) * (setSize.value[t[0][0]] + setSize.value[t[0][1]])) )\\\n",
    "        .map(lambda t: t[0])"
   ]
  },
  {
   "cell_type": "code",
   "execution_count": 13,
   "metadata": {},
   "outputs": [],
   "source": [
    "test1 = sorted(res.collect())"
   ]
  },
  {
   "cell_type": "code",
   "execution_count": 14,
   "metadata": {},
   "outputs": [],
   "source": [
    "test2 = list()\n",
    "for s1 in dataset:\n",
    "    if len(s1[1]) >= minSize:\n",
    "        for s2 in dataset:\n",
    "            if len(s2[1]) >= minSize:\n",
    "                if s1[0] < s2[0] and compute_similarity(s1[1], s2[1]) >= thres:\n",
    "                    test2.append((s1[0], s2[0]))"
   ]
  },
  {
   "cell_type": "code",
   "execution_count": 15,
   "metadata": {},
   "outputs": [],
   "source": [
    "assert test1 == test2, \"fail\""
   ]
  },
  {
   "cell_type": "code",
   "execution_count": 16,
   "metadata": {},
   "outputs": [],
   "source": [
    "Ns = [200, 400, 800, 1600]\n",
    "Ts = [0.6, 0.7, 0.8, 0.9]"
   ]
  },
  {
   "cell_type": "code",
   "execution_count": 17,
   "metadata": {},
   "outputs": [],
   "source": [
    "execution_time = list()\n",
    "for N in Ns:\n",
    "    ts = list()\n",
    "    local = create_dataset(N)\n",
    "    for thres in Ts:\n",
    "        start_time = time.time()\n",
    "        res = sc.parallelize(local)\\\n",
    "            .filter(lambda t: len(t[1]) >= minSize ) \\\n",
    "            .flatMap(lambda t: [ (i, t[0]) for i in t[1] ])\\\n",
    "            .groupByKey().mapValues(list)\\\n",
    "            .flatMap(lambda t: distinct_pairs(t[1]))\\\n",
    "            .reduceByKey(lambda a,b:a+b)\\\n",
    "            .filter(lambda t: t[1] >= (thres / (1. + thres) * (setSize.value[t[0][0]] + setSize.value[t[0][1]])) )\\\n",
    "            .count()\n",
    "        ts.append(time.time() - start_time)\n",
    "    execution_time.append(ts)"
   ]
  },
  {
   "cell_type": "code",
   "execution_count": 20,
   "metadata": {},
   "outputs": [
    {
     "data": {
      "image/png": "[encoded data removed]",
      "text/plain": [
       "<Figure size 432x288 with 1 Axes>"
      ]
     },
     "metadata": {
      "needs_background": "light"
     },
     "output_type": "display_data"
    }
   ],
   "source": [
    "execution_time = np.array(execution_time).T.tolist()\n",
    "\n",
    "markers=['^', 's', 'p', 'H']\n",
    "labels = [ 'threshold = {}'.format(t) for t in Ts ]\n",
    "for ts, m, lb in zip(execution_time, markers, labels):\n",
    "    plt.plot(Ns, ts, linestyle='-', marker=m, label=lb)\n",
    "#plt.ylim([10, 20])\n",
    "plt.xlabel(\"Number of sets\")\n",
    "plt.ylabel(\"Execution time\")\n",
    "plt.legend(loc='best')\n",
    "plt.show()"
   ]
  },
  {
   "cell_type": "code",
   "execution_count": 21,
   "metadata": {},
   "outputs": [
    {
     "data": {
      "image/png": "[encoded data removed]",
      "text/plain": [
       "<Figure size 432x288 with 1 Axes>"
      ]
     },
     "metadata": {
      "needs_background": "light"
     },
     "output_type": "display_data"
    }
   ],
   "source": [
    "execution_time = np.array(execution_time).T.tolist()\n",
    "\n",
    "markers=['^', 's', 'p', 'H']\n",
    "labels = [ '# of sets = {}'.format(n) for n in Ns ]\n",
    "for ts, m, lb in zip(execution_time, markers, labels):\n",
    "    plt.plot(Ts, ts, linestyle='-', marker=m, label=lb)\n",
    "plt.xlabel(\"Number of groups\")\n",
    "plt.ylabel(\"Execution time\")\n",
    "plt.title(\"Execution time of Closest Pair\")\n",
    "#plt.ylim([10, 30])\n",
    "plt.legend(loc='best')\n",
    "plt.show()"
   ]
  },
  {
   "cell_type": "code",
   "execution_count": null,
   "metadata": {},
   "outputs": [],
   "source": []
  }
 ],
 "metadata": {
  "kernelspec": {
   "display_name": "Python 3",
   "language": "python",
   "name": "python3"
  },
  "language_info": {
   "codemirror_mode": {
    "name": "ipython",
    "version": 3
   },
   "file_extension": ".py",
   "mimetype": "text/x-python",
   "name": "python",
   "nbconvert_exporter": "python",
   "pygments_lexer": "ipython3",
   "version": "3.6.9"
  }
 },
 "nbformat": 4,
 "nbformat_minor": 4
}
