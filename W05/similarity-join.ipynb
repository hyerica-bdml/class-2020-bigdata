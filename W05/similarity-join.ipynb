{
 "cells": [
  {
   "cell_type": "code",
   "execution_count": 1,
   "metadata": {},
   "outputs": [],
   "source": [
    "import findspark\n",
    "findspark.init()\n",
    "\n",
    "# create spark session\n",
    "from pyspark.sql import SparkSession\n",
    "spark = SparkSession.builder.appName(\"my app\").master(\"local\").getOrCreate()\n",
    "\n",
    "# get context from the session\n",
    "sc = spark.sparkContext"
   ]
  },
  {
   "cell_type": "code",
   "execution_count": 2,
   "metadata": {},
   "outputs": [],
   "source": [
    "import matplotlib.pyplot as plt\n",
    "import numpy as np\n",
    "import time"
   ]
  },
  {
   "cell_type": "markdown",
   "metadata": {},
   "source": [
    "# Misc"
   ]
  },
  {
   "cell_type": "code",
   "execution_count": 3,
   "metadata": {},
   "outputs": [],
   "source": [
    "def create_dataset(N, D=2, minval=[0, 0], maxval=[1, 1]):\n",
    "    \"\"\"\n",
    "    D차원 벡터 N개를 생성\n",
    "    \"\"\"\n",
    "\n",
    "    dataset = np.zeros((N, D+1))\n",
    "    \n",
    "    # gen IDs\n",
    "    dataset[:, 0] = np.arange(N, dtype='int')\n",
    "    \n",
    "    # gen values\n",
    "    for i in range(D):\n",
    "        vec = np.random.rand(N) * (maxval[i] - minval[i]) + minval[i]\n",
    "        dataset[:, i+1] = vec\n",
    "\n",
    "    return dataset"
   ]
  },
  {
   "cell_type": "code",
   "execution_count": 4,
   "metadata": {},
   "outputs": [],
   "source": [
    "def compute_distance(p1, p2):\n",
    "    \"\"\"\n",
    "    주어진 2개 데이터포인트에 대해 거리 계산\n",
    "    \"\"\"\n",
    "    \n",
    "    distance = np.sqrt(np.sum((p1[1:] - p2[1:])**2))\n",
    "    return distance"
   ]
  },
  {
   "cell_type": "markdown",
   "metadata": {},
   "source": [
    "# Map / Reduce Functions"
   ]
  },
  {
   "cell_type": "code",
   "execution_count": 5,
   "metadata": {
    "scrolled": true
   },
   "outputs": [],
   "source": [
    "def distribute(t):\n",
    "    global M\n",
    "    gid = hash(str(t[0])) % M\n",
    "    for i in range(M):\n",
    "        if i < gid:\n",
    "            yield ((i, gid), (gid, t))\n",
    "        else:\n",
    "            yield ((gid, i), (gid, t))"
   ]
  },
  {
   "cell_type": "code",
   "execution_count": 6,
   "metadata": {},
   "outputs": [],
   "source": [
    "def join(t):\n",
    "    global thres\n",
    "    key, values = t\n",
    "    if key[0] == key[1]:\n",
    "        l = list(values)\n",
    "        for i,v1 in enumerate(l):\n",
    "            for j,v2 in enumerate(l):\n",
    "                if i<j and compute_distance(v1[1], v2[1]) < thres:\n",
    "                    yield (v1[1][0], v2[1][0]) if v1[1][0]<v2[1][0] else (v2[1][0], v1[1][0])\n",
    "    else:\n",
    "        l = list(values)\n",
    "        l1 = list()\n",
    "        l2 = list()\n",
    "        for t in values:\n",
    "            if key[0] == t[0]:\n",
    "                l1.append(t[1])\n",
    "            else:\n",
    "                l2.append(t[1])\n",
    "        for i,p1 in enumerate(l1):\n",
    "            for j,p2 in enumerate(l2):\n",
    "                if compute_distance(p1, p2) < thres:\n",
    "                    yield (p1[0], p2[0]) if p1[0]<p2[0] else (p2[0], p1[0])\n",
    "                        "
   ]
  },
  {
   "cell_type": "markdown",
   "metadata": {},
   "source": [
    "# Test"
   ]
  },
  {
   "cell_type": "code",
   "execution_count": 7,
   "metadata": {},
   "outputs": [],
   "source": [
    "M = 5\n",
    "N = 1000\n",
    "thres = 0.01"
   ]
  },
  {
   "cell_type": "code",
   "execution_count": 8,
   "metadata": {},
   "outputs": [],
   "source": [
    "local = create_dataset(N)"
   ]
  },
  {
   "cell_type": "code",
   "execution_count": 9,
   "metadata": {},
   "outputs": [],
   "source": [
    "rdd = sc.parallelize(local).flatMap(distribute).groupByKey().flatMap(join)"
   ]
  },
  {
   "cell_type": "code",
   "execution_count": 10,
   "metadata": {},
   "outputs": [],
   "source": [
    "res1 = sorted(rdd.collect())"
   ]
  },
  {
   "cell_type": "code",
   "execution_count": 11,
   "metadata": {},
   "outputs": [],
   "source": [
    "res2 = list()\n",
    "for i,p1 in enumerate(local):\n",
    "    for j,p2 in enumerate(local):\n",
    "        if i<j and compute_distance(p1, p2) < thres:\n",
    "            if p1[0]<p2[0]:\n",
    "                res2.append((p1[0], p2[0]))\n",
    "            else:\n",
    "                res2.append((p2[0], p1[0]))"
   ]
  },
  {
   "cell_type": "code",
   "execution_count": 12,
   "metadata": {},
   "outputs": [],
   "source": [
    "assert res1 == res2, \"fail\""
   ]
  },
  {
   "cell_type": "markdown",
   "metadata": {},
   "source": [
    "# Evaluation"
   ]
  },
  {
   "cell_type": "code",
   "execution_count": 15,
   "metadata": {},
   "outputs": [],
   "source": [
    "Ns = [200, 400, 800, 1600]\n",
    "Ms = [1, 2, 4, 8]\n",
    "thres = 0.01"
   ]
  },
  {
   "cell_type": "code",
   "execution_count": 20,
   "metadata": {},
   "outputs": [],
   "source": [
    "execution_time = list()\n",
    "for N in Ns:\n",
    "    ts = list()\n",
    "    local = create_dataset(N)\n",
    "    for M in Ms:\n",
    "        start_time = time.time()\n",
    "        sc.parallelize(local).flatMap(distribute).groupByKey().flatMap(join).count()\n",
    "        ts.append(time.time() - start_time)\n",
    "    execution_time.append(ts)"
   ]
  },
  {
   "cell_type": "code",
   "execution_count": 33,
   "metadata": {},
   "outputs": [],
   "source": [
    "execution_time = np.array(execution_time).T.tolist()"
   ]
  },
  {
   "cell_type": "code",
   "execution_count": 36,
   "metadata": {},
   "outputs": [
    {
     "data": {
      "image/png": "[encoded data removed]",
      "text/plain": [
       "<Figure size 432x288 with 1 Axes>"
      ]
     },
     "metadata": {
      "needs_background": "light"
     },
     "output_type": "display_data"
    }
   ],
   "source": [
    "markers=['^', 's', 'p', 'H']\n",
    "labels = [ '# of groups = {}'.format(n) for n in Ms ]\n",
    "for ts, m, lb in zip(execution_time, markers, labels):\n",
    "    plt.plot(Ns, ts, linestyle='-', marker=m, label=lb)\n",
    "plt.xlabel(\"Number of datapoints\")\n",
    "plt.ylabel(\"Execution time\")\n",
    "plt.title(\"Execution time of Closest Pair\")\n",
    "plt.yscale('log')\n",
    "plt.legend(loc='best')\n",
    "plt.show()"
   ]
  },
  {
   "cell_type": "code",
   "execution_count": 38,
   "metadata": {},
   "outputs": [],
   "source": [
    "execution_time = np.array(execution_time).T.tolist()"
   ]
  },
  {
   "cell_type": "code",
   "execution_count": 41,
   "metadata": {},
   "outputs": [
    {
     "data": {
      "image/png": "[encoded data removed]",
      "text/plain": [
       "<Figure size 432x288 with 1 Axes>"
      ]
     },
     "metadata": {
      "needs_background": "light"
     },
     "output_type": "display_data"
    }
   ],
   "source": [
    "markers=['^', 's', 'p', 'H']\n",
    "labels = [ '# of points = {}'.format(n) for n in Ns ]\n",
    "for ts, m, lb in zip(execution_time, markers, labels):\n",
    "    plt.plot(Ms, ts, linestyle='-', marker=m, label=lb)\n",
    "plt.xlabel(\"Number of groups\")\n",
    "plt.ylabel(\"Execution time\")\n",
    "plt.title(\"Execution time of Closest Pair\")\n",
    "plt.yscale('log')\n",
    "\n",
    "plt.legend(loc='best')\n",
    "plt.show()"
   ]
  },
  {
   "cell_type": "code",
   "execution_count": null,
   "metadata": {},
   "outputs": [],
   "source": []
  }
 ],
 "metadata": {
  "kernelspec": {
   "display_name": "Python 3",
   "language": "python",
   "name": "python3"
  },
  "language_info": {
   "codemirror_mode": {
    "name": "ipython",
    "version": 3
   },
   "file_extension": ".py",
   "mimetype": "text/x-python",
   "name": "python",
   "nbconvert_exporter": "python",
   "pygments_lexer": "ipython3",
   "version": "3.6.9"
  }
 },
 "nbformat": 4,
 "nbformat_minor": 4
}
